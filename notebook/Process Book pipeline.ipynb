{
 "cells": [
  {
   "cell_type": "markdown",
   "id": "2741ef5f",
   "metadata": {},
   "source": [
    "# This notebook executes Fictional Character Identification.ipynb using the books or stories located in the book_to_process folder."
   ]
  },
  {
   "cell_type": "markdown",
   "id": "31f4ca5e",
   "metadata": {},
   "source": [
    "(Optional) To scrape entities from SparkNotes and use them as the golden_list, download the compatible ChromeDriver for your Chrome version and place it in the /data folder of the cloned repository. This will be used with Selenium to automate the browser and scrape the character list from the SparkNotes page for the selected book."
   ]
  },
  {
   "cell_type": "code",
   "execution_count": 2,
   "id": "740aa3de",
   "metadata": {},
   "outputs": [
    {
     "name": "stdout",
     "output_type": "stream",
     "text": [
      "047_HLB_6_Dying_Detective\n",
      "The Strange Case Of Dr. Jekyll And Mr. Hyde\n"
     ]
    }
   ],
   "source": [
    "import nbformat\n",
    "from nbconvert.preprocessors import ExecutePreprocessor\n",
    "import copy\n",
    "import os\n",
    "from pathlib import Path\n",
    "\n",
    "directory = Path(\"../data/\")\n",
    "books_directory = Path(\"../book_to_process/\")\n",
    "output_directory = Path(\"../output/\")\n",
    "\n",
    "files_da_elaborare = [file for file in os.listdir(books_directory) if file.endswith('.txt')]\n",
    "\n",
    "with open(\"../notebook/Fictional Character Identification.ipynb\") as f:\n",
    "    nb_template = nbformat.read(f, as_version=4)\n",
    "\n",
    "\n",
    "for n in files_da_elaborare:\n",
    "    filename = os.path.splitext(n)[0]\n",
    "    print(filename)\n",
    "    percorso_file_input = os.path.join(directory, n)\n",
    "\n",
    "    nb = copy.deepcopy(nb_template)\n",
    "\n",
    "    nb['cells'][0]['source'] = f\"directory = '{directory}'\\noutput_directory = '{output_directory}'\\nfilename= '{filename}'\\nbooks_directory= '{books_directory}'\" + \"\\n\\n\" + nb['cells'][0]['source']\n",
    "\n",
    "    # Esegui il notebook\n",
    "    ep = ExecutePreprocessor(timeout=None)  # Nessun timeout\n",
    "    ep.preprocess(nb, {'metadata': {'path': './'}})"
   ]
  },
  {
   "cell_type": "code",
   "execution_count": null,
   "id": "13d21513",
   "metadata": {},
   "outputs": [],
   "source": []
  }
 ],
 "metadata": {
  "kernelspec": {
   "display_name": "tesi",
   "language": "python",
   "name": "tesi"
  },
  "language_info": {
   "codemirror_mode": {
    "name": "ipython",
    "version": 3
   },
   "file_extension": ".py",
   "mimetype": "text/x-python",
   "name": "python",
   "nbconvert_exporter": "python",
   "pygments_lexer": "ipython3",
   "version": "3.10.7"
  }
 },
 "nbformat": 4,
 "nbformat_minor": 5
}
